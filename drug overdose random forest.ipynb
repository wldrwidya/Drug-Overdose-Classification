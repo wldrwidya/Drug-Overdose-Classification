{
 "cells": [
  {
   "cell_type": "code",
   "execution_count": 4,
   "id": "86b1c891",
   "metadata": {},
   "outputs": [
    {
     "name": "stdout",
     "output_type": "stream",
     "text": [
      "\n",
      "Laporan Klasifikasi:\n",
      "              precision    recall  f1-score   support\n",
      "\n",
      "        2015       1.00      1.00      1.00      2833\n",
      "        2016       1.00      1.00      1.00      2927\n",
      "        2017       1.00      1.00      1.00      2935\n",
      "        2018       1.00      1.00      1.00      2907\n",
      "        2019       1.00      1.00      1.00      2871\n",
      "        2020       1.00      1.00      1.00      2880\n",
      "        2021       1.00      1.00      1.00      2882\n",
      "        2022       1.00      1.00      1.00      2800\n",
      "        2023       1.00      1.00      1.00       725\n",
      "\n",
      "    accuracy                           1.00     23760\n",
      "   macro avg       1.00      1.00      1.00     23760\n",
      "weighted avg       1.00      1.00      1.00     23760\n",
      "\n",
      "\n",
      "Akurasi Model: 1.0\n"
     ]
    },
    {
     "data": {
      "image/png": "[encoded data removed]",
      "text/plain": [
       "<Figure size 576x432 with 1 Axes>"
      ]
     },
     "metadata": {
      "needs_background": "light"
     },
     "output_type": "display_data"
    }
   ],
   "source": [
    "import pandas as pd\n",
    "import numpy as np\n",
    "import matplotlib.pyplot as plt\n",
    "from sklearn.model_selection import train_test_split\n",
    "from sklearn.preprocessing import LabelEncoder, StandardScaler\n",
    "from sklearn.metrics import classification_report, accuracy_score, confusion_matrix, ConfusionMatrixDisplay\n",
    "from sklearn.ensemble import RandomForestClassifier\n",
    "\n",
    "# Inisialisasi model Random Forest\n",
    "rf_model = RandomForestClassifier(n_estimators=100, random_state=42)  # Anda dapat menyesuaikan n_estimators sesuai kebutuhan\n",
    "\n",
    "# Latih model dengan data latih\n",
    "rf_model.fit(X_train, y_train)\n",
    "\n",
    "# Lakukan prediksi pada data uji\n",
    "y_pred_rf = rf_model.predict(X_test)\n",
    "\n",
    "# confusion matrix\n",
    "cm_rf = confusion_matrix(y_test, y_pred_rf)\n",
    "\n",
    "# Tampilkan laporan klasifikasi\n",
    "print(\"\\nLaporan Klasifikasi:\")\n",
    "print(classification_report(y_test, y_pred_rf))\n",
    "\n",
    "# Hitung akurasi model\n",
    "accuracy_rf = accuracy_score(y_test, y_pred_rf)\n",
    "print(\"\\nAkurasi Model:\", accuracy_rf)\n",
    "\n",
    "# Menambahkan kolom 'Year' ke data uji\n",
    "X_test['Year'] = data['Year']\n",
    "\n",
    "# Menginisialisasi daftar untuk menyimpan jumlah prediksi yang benar per tahun\n",
    "prediksi_per_tahun_rf = []\n",
    "\n",
    "# Memecah data uji menjadi tahunan dan menghitung jumlah prediksi yang benar per tahun\n",
    "for tahun in range(2015, 2024):\n",
    "    data_tahun = X_test[X_test['Year'] == tahun]\n",
    "    y_pred_tahun = y_pred_rf[X_test['Year'] == tahun]\n",
    "    prediksi_tahun = (data_tahun['Year'] == y_pred_tahun).sum()  # Ganti 'Year' dengan nama kolom target Anda\n",
    "    prediksi_per_tahun_rf.append(prediksi_tahun)\n",
    "\n",
    "# Plot diagram batang jumlah prediksi yang benar per tahun\n",
    "plt.figure(figsize=(8, 6))\n",
    "plt.bar(tahun_label, prediksi_per_tahun_rf, color='blue')  # Menggunakan warna biru untuk Random Forest\n",
    "plt.title('Jumlah Prediksi per Tahun (Random Forest)')\n",
    "plt.xlabel('Tahun')\n",
    "plt.ylabel('Jumlah Prediksi')\n",
    "plt.xticks(rotation=45)  # Rotasi label tahun agar lebih mudah dibaca\n",
    "plt.show()\n"
   ]
  },
  {
   "cell_type": "code",
   "execution_count": null,
   "id": "cc7294c7",
   "metadata": {},
   "outputs": [],
   "source": []
  }
 ],
 "metadata": {
  "kernelspec": {
   "display_name": "Python 3 (ipykernel)",
   "language": "python",
   "name": "python3"
  },
  "language_info": {
   "codemirror_mode": {
    "name": "ipython",
    "version": 3
   },
   "file_extension": ".py",
   "mimetype": "text/x-python",
   "name": "python",
   "nbconvert_exporter": "python",
   "pygments_lexer": "ipython3",
   "version": "3.9.7"
  }
 },
 "nbformat": 4,
 "nbformat_minor": 5
}
