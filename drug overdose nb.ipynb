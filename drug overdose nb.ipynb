{
 "cells": [
  {
   "cell_type": "code",
   "execution_count": 1,
   "id": "e6b4e620",
   "metadata": {},
   "outputs": [],
   "source": [
    "import pandas as pd\n",
    "import numpy as np\n",
    "import matplotlib.pyplot as plt\n",
    "from sklearn.model_selection import train_test_split\n",
    "from sklearn.preprocessing import LabelEncoder, StandardScaler\n",
    "from sklearn.naive_bayes import GaussianNB  # Tambahkan import untuk GaussianNB\n",
    "from sklearn.metrics import classification_report, accuracy_score, confusion_matrix, ConfusionMatrixDisplay"
   ]
  },
  {
   "cell_type": "code",
   "execution_count": 2,
   "id": "bef0b833",
   "metadata": {},
   "outputs": [
    {
     "data": {
      "text/html": [
       "<div>\n",
       "<style scoped>\n",
       "    .dataframe tbody tr th:only-of-type {\n",
       "        vertical-align: middle;\n",
       "    }\n",
       "\n",
       "    .dataframe tbody tr th {\n",
       "        vertical-align: top;\n",
       "    }\n",
       "\n",
       "    .dataframe thead th {\n",
       "        text-align: right;\n",
       "    }\n",
       "</style>\n",
       "<table border=\"1\" class=\"dataframe\">\n",
       "  <thead>\n",
       "    <tr style=\"text-align: right;\">\n",
       "      <th></th>\n",
       "      <th>State</th>\n",
       "      <th>Year</th>\n",
       "      <th>Month</th>\n",
       "      <th>Period</th>\n",
       "      <th>Indicator</th>\n",
       "      <th>Data Value</th>\n",
       "      <th>Percent Complete</th>\n",
       "      <th>Percent Pending Investigation</th>\n",
       "      <th>State Name</th>\n",
       "      <th>Footnote</th>\n",
       "      <th>Footnote Symbol</th>\n",
       "      <th>Predicted Value</th>\n",
       "    </tr>\n",
       "  </thead>\n",
       "  <tbody>\n",
       "    <tr>\n",
       "      <th>0</th>\n",
       "      <td>AK</td>\n",
       "      <td>2015</td>\n",
       "      <td>April</td>\n",
       "      <td>12 month-ending</td>\n",
       "      <td>Heroin (T40.1)</td>\n",
       "      <td>NaN</td>\n",
       "      <td>100.0</td>\n",
       "      <td>0.0</td>\n",
       "      <td>Alaska</td>\n",
       "      <td>Numbers may differ from published reports usin...</td>\n",
       "      <td>**</td>\n",
       "      <td>NaN</td>\n",
       "    </tr>\n",
       "    <tr>\n",
       "      <th>1</th>\n",
       "      <td>AK</td>\n",
       "      <td>2015</td>\n",
       "      <td>April</td>\n",
       "      <td>12 month-ending</td>\n",
       "      <td>Psychostimulants with abuse potential (T43.6)</td>\n",
       "      <td>NaN</td>\n",
       "      <td>100.0</td>\n",
       "      <td>0.0</td>\n",
       "      <td>Alaska</td>\n",
       "      <td>Numbers may differ from published reports usin...</td>\n",
       "      <td>**</td>\n",
       "      <td>NaN</td>\n",
       "    </tr>\n",
       "    <tr>\n",
       "      <th>2</th>\n",
       "      <td>AK</td>\n",
       "      <td>2015</td>\n",
       "      <td>April</td>\n",
       "      <td>12 month-ending</td>\n",
       "      <td>Opioids (T40.0-T40.4,T40.6)</td>\n",
       "      <td>NaN</td>\n",
       "      <td>100.0</td>\n",
       "      <td>0.0</td>\n",
       "      <td>Alaska</td>\n",
       "      <td>Numbers may differ from published reports usin...</td>\n",
       "      <td>**</td>\n",
       "      <td>NaN</td>\n",
       "    </tr>\n",
       "    <tr>\n",
       "      <th>3</th>\n",
       "      <td>AK</td>\n",
       "      <td>2015</td>\n",
       "      <td>April</td>\n",
       "      <td>12 month-ending</td>\n",
       "      <td>Natural &amp; semi-synthetic opioids (T40.2)</td>\n",
       "      <td>NaN</td>\n",
       "      <td>100.0</td>\n",
       "      <td>0.0</td>\n",
       "      <td>Alaska</td>\n",
       "      <td>Numbers may differ from published reports usin...</td>\n",
       "      <td>**</td>\n",
       "      <td>NaN</td>\n",
       "    </tr>\n",
       "    <tr>\n",
       "      <th>4</th>\n",
       "      <td>AK</td>\n",
       "      <td>2015</td>\n",
       "      <td>April</td>\n",
       "      <td>12 month-ending</td>\n",
       "      <td>Natural &amp; semi-synthetic opioids, incl. methad...</td>\n",
       "      <td>NaN</td>\n",
       "      <td>100.0</td>\n",
       "      <td>0.0</td>\n",
       "      <td>Alaska</td>\n",
       "      <td>Numbers may differ from published reports usin...</td>\n",
       "      <td>**</td>\n",
       "      <td>NaN</td>\n",
       "    </tr>\n",
       "  </tbody>\n",
       "</table>\n",
       "</div>"
      ],
      "text/plain": [
       "  State  Year  Month           Period  \\\n",
       "0    AK  2015  April  12 month-ending   \n",
       "1    AK  2015  April  12 month-ending   \n",
       "2    AK  2015  April  12 month-ending   \n",
       "3    AK  2015  April  12 month-ending   \n",
       "4    AK  2015  April  12 month-ending   \n",
       "\n",
       "                                           Indicator Data Value  \\\n",
       "0                                     Heroin (T40.1)        NaN   \n",
       "1      Psychostimulants with abuse potential (T43.6)        NaN   \n",
       "2                        Opioids (T40.0-T40.4,T40.6)        NaN   \n",
       "3           Natural & semi-synthetic opioids (T40.2)        NaN   \n",
       "4  Natural & semi-synthetic opioids, incl. methad...        NaN   \n",
       "\n",
       "   Percent Complete  Percent Pending Investigation State Name  \\\n",
       "0             100.0                            0.0     Alaska   \n",
       "1             100.0                            0.0     Alaska   \n",
       "2             100.0                            0.0     Alaska   \n",
       "3             100.0                            0.0     Alaska   \n",
       "4             100.0                            0.0     Alaska   \n",
       "\n",
       "                                            Footnote Footnote Symbol  \\\n",
       "0  Numbers may differ from published reports usin...              **   \n",
       "1  Numbers may differ from published reports usin...              **   \n",
       "2  Numbers may differ from published reports usin...              **   \n",
       "3  Numbers may differ from published reports usin...              **   \n",
       "4  Numbers may differ from published reports usin...              **   \n",
       "\n",
       "  Predicted Value  \n",
       "0             NaN  \n",
       "1             NaN  \n",
       "2             NaN  \n",
       "3             NaN  \n",
       "4             NaN  "
      ]
     },
     "execution_count": 2,
     "metadata": {},
     "output_type": "execute_result"
    }
   ],
   "source": [
    "data = pd.read_csv('VSRR_Provisional_Drug_Overdose_Death_Counts.csv')\n",
    "data.head()"
   ]
  },
  {
   "cell_type": "code",
   "execution_count": 3,
   "id": "14332088",
   "metadata": {},
   "outputs": [],
   "source": [
    "# Buang kolom 'Footnote Symbol' karena tidak relevan untuk klasifikasi\n",
    "data = data.drop('Footnote Symbol', axis=1)\n",
    "\n",
    "# Pilih kolom yang akan diprediksi (target)\n",
    "target = 'Year'\n",
    "\n",
    "X = data[[target]]  # Hanya menggunakan kolom target sebagai fitur\n",
    "y = data[target]\n",
    "\n",
    "# Bagi dataset menjadi data latih (70%) dan data uji (30%)\n",
    "X_train, X_test, y_train, y_test = train_test_split(X, y, test_size=0.4, random_state=42)\n"
   ]
  },
  {
   "cell_type": "code",
   "execution_count": 4,
   "id": "0e21a9b9",
   "metadata": {},
   "outputs": [],
   "source": [
    "# Inisialisasi model Naive Bayes\n",
    "nb_model = GaussianNB()\n",
    "\n",
    "# Latih model dengan data latih\n",
    "nb_model.fit(X_train, y_train)\n",
    "\n",
    "# Lakukan prediksi pada data uji\n",
    "y_pred = nb_model.predict(X_test)\n",
    "\n",
    "#confusion matrix\n",
    "cm = confusion_matrix(y_test, y_pred)"
   ]
  },
  {
   "cell_type": "code",
   "execution_count": 5,
   "id": "3ee43d7a",
   "metadata": {},
   "outputs": [
    {
     "name": "stdout",
     "output_type": "stream",
     "text": [
      "\n",
      "Laporan Klasifikasi:\n",
      "              precision    recall  f1-score   support\n",
      "\n",
      "        2015       1.00      1.00      1.00      2833\n",
      "        2016       1.00      1.00      1.00      2927\n",
      "        2017       1.00      1.00      1.00      2935\n",
      "        2018       1.00      1.00      1.00      2907\n",
      "        2019       1.00      1.00      1.00      2871\n",
      "        2020       1.00      1.00      1.00      2880\n",
      "        2021       1.00      1.00      1.00      2882\n",
      "        2022       1.00      1.00      1.00      2800\n",
      "        2023       1.00      1.00      1.00       725\n",
      "\n",
      "    accuracy                           1.00     23760\n",
      "   macro avg       1.00      1.00      1.00     23760\n",
      "weighted avg       1.00      1.00      1.00     23760\n",
      "\n"
     ]
    }
   ],
   "source": [
    "# Tampilkan laporan klasifikasi\n",
    "print(\"\\nLaporan Klasifikasi:\")\n",
    "print(classification_report(y_test, y_pred))"
   ]
  },
  {
   "cell_type": "code",
   "execution_count": 6,
   "id": "cdcb3f24",
   "metadata": {},
   "outputs": [
    {
     "name": "stdout",
     "output_type": "stream",
     "text": [
      "\n",
      "Akurasi Model: 1.0\n"
     ]
    }
   ],
   "source": [
    "# Hitung akurasi model\n",
    "accuracy = accuracy_score(y_test, y_pred)\n",
    "print(\"\\nAkurasi Model:\", accuracy)"
   ]
  },
  {
   "cell_type": "code",
   "execution_count": 8,
   "id": "705cbd6d",
   "metadata": {},
   "outputs": [
    {
     "name": "stdout",
     "output_type": "stream",
     "text": [
      "Prediksi di tahun 2015: 2833\n",
      "Prediksi di tahun 2016: 2927\n",
      "Prediksi di tahun 2017: 2935\n",
      "Prediksi di tahun 2018: 2907\n",
      "Prediksi di tahun 2019: 2871\n",
      "Prediksi di tahun 2020: 2880\n",
      "Prediksi di tahun 2021: 2882\n",
      "Prediksi di tahun 2022: 2800\n",
      "Prediksi di tahun 2023: 725\n"
     ]
    },
    {
     "data": {
      "text/plain": [
       "23760"
      ]
     },
     "execution_count": 8,
     "metadata": {},
     "output_type": "execute_result"
    }
   ],
   "source": [
    "# Menambahkan kolom 'Year' ke data uji\n",
    "X_test['Year'] = data['Year']\n",
    "\n",
    "# Menginisialisasi daftar untuk menyimpan jumlah prediksi yang benar per tahun\n",
    "prediksi_per_tahun = []\n",
    "\n",
    "# Memecah data uji menjadi tahunan dan menghitung jumlah prediksi yang benar per tahun\n",
    "for tahun in range(2015, 2024):\n",
    "    data_tahun = X_test[X_test['Year'] == tahun]\n",
    "    y_pred_tahun = y_pred[X_test['Year'] == tahun]\n",
    "    prediksi_tahun = (data_tahun['Year'] == y_pred_tahun).sum()  # Ganti 'target_column' dengan nama kolom target Anda\n",
    "    prediksi_per_tahun.append((tahun, prediksi_tahun))\n",
    "\n",
    "# Cetak hasil prediksi yang benar per tahun\n",
    "for tahun, prediksi in prediksi_per_tahun:\n",
    "    print(f'Prediksi di tahun {tahun}: {prediksi}')\n",
    "    \n",
    "y_pred.shape[0]"
   ]
  },
  {
   "cell_type": "code",
   "execution_count": 12,
   "id": "ed374fd6",
   "metadata": {},
   "outputs": [
    {
     "data": {
      "image/png": "[encoded data removed]",
      "text/plain": [
       "<Figure size 576x432 with 1 Axes>"
      ]
     },
     "metadata": {
      "needs_background": "light"
     },
     "output_type": "display_data"
    }
   ],
   "source": [
    "prediksi_per_tahun = []\n",
    "\n",
    "# Memecah data uji menjadi tahunan dan menghitung jumlah prediksi yang benar per tahun\n",
    "for tahun in range(2015, 2024):\n",
    "    data_tahun = X_test[X_test['Year'] == tahun]\n",
    "    y_pred_tahun = y_pred[X_test['Year'] == tahun]\n",
    "    prediksi_tahun = (data_tahun['Year'] == y_pred_tahun).sum()  # Ganti 'Year' dengan nama kolom target Anda\n",
    "    prediksi_per_tahun.append(prediksi_tahun)\n",
    "\n",
    "# Menyiapkan tahun-tahun sebagai label\n",
    "tahun_label = [str(tahun) for tahun in range(2015, 2024)]\n",
    "\n",
    "# Plot diagram batang jumlah prediksi yang benar per tahun\n",
    "plt.figure(figsize=(8, 6))\n",
    "plt.bar(tahun_label, prediksi_per_tahun, color='green')\n",
    "plt.title('Jumlah Prediksi per Tahun')\n",
    "plt.xlabel('Tahun')\n",
    "plt.ylabel('Jumlah Prediksi')\n",
    "plt.xticks(rotation=45)  # Rotasi label tahun agar lebih mudah dibaca\n",
    "plt.show()\n"
   ]
  },
  {
   "cell_type": "code",
   "execution_count": null,
   "id": "709ce20e",
   "metadata": {},
   "outputs": [],
   "source": []
  }
 ],
 "metadata": {
  "kernelspec": {
   "display_name": "Python 3 (ipykernel)",
   "language": "python",
   "name": "python3"
  },
  "language_info": {
   "codemirror_mode": {
    "name": "ipython",
    "version": 3
   },
   "file_extension": ".py",
   "mimetype": "text/x-python",
   "name": "python",
   "nbconvert_exporter": "python",
   "pygments_lexer": "ipython3",
   "version": "3.9.7"
  }
 },
 "nbformat": 4,
 "nbformat_minor": 5
}
